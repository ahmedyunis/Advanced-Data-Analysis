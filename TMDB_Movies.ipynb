{
  "nbformat": 4,
  "nbformat_minor": 0,
  "metadata": {
    "colab": {
      "name": "TMDB_Movies",
      "provenance": [],
      "private_outputs": true
    },
    "kernelspec": {
      "name": "python3",
      "display_name": "Python 3"
    },
    "accelerator": "GPU"
  },
  "cells": [
    {
      "cell_type": "markdown",
      "metadata": {
        "id": "WjfNsWzLCz5d",
        "colab_type": "text"
      },
      "source": [
        "# **Introduction**\n",
        "the data contains information that are provided from The Movie Database (TMDb). It consists of two datasets\n",
        "\n",
        "One of movies, It collects 5000+ movies and contains various details about movies for analysis including user ratings, popularity, revenue, budget, run time, keywords and vote_average \n",
        "\n",
        "The other is credits contains full credits for both the cast and the crew\n",
        "\n",
        "The movies informatin could provied answer for  many important question :\n",
        "\n",
        "how successful this movies are(by exploring the votes an revenue they get)?\n",
        "\n",
        "movies with higher votes and higher popularity?\n",
        "\n",
        "\n",
        "which are the most popular movies(depend on the revenue and the votes )? \n",
        "\n",
        "which movies have the highest budget ? \n",
        "\n",
        "how the runtime of the movie affect the movie rate or popularity? \n",
        "\n",
        "**generally**: try to investigates which are the more important features that affect the movie success? \n",
        "\n",
        "how the different feature effected by each other? \n",
        "\n",
        "and the different measurements of success of the movies?  "
      ]
    },
    {
      "cell_type": "markdown",
      "metadata": {
        "id": "y_enIZCnSQ41",
        "colab_type": "text"
      },
      "source": [
        "## **Data Wrangling**"
      ]
    },
    {
      "cell_type": "markdown",
      "metadata": {
        "id": "-TS409dsSWGH",
        "colab_type": "text"
      },
      "source": [
        "####**General Properties**"
      ]
    },
    {
      "cell_type": "markdown",
      "metadata": {
        "id": "x8OR8K_K9wNG",
        "colab_type": "text"
      },
      "source": [
        "**Import** required lipararies to get some analysis and exploration to the  data "
      ]
    },
    {
      "cell_type": "code",
      "metadata": {
        "id": "t7DN-49TRTua",
        "colab_type": "code",
        "colab": {}
      },
      "source": [
        "import numpy as np \n",
        "import pandas as pd  \n",
        "import seaborn as sns\n",
        "import matplotlib.pyplot as plt\n",
        "%matplotlib inline"
      ],
      "execution_count": null,
      "outputs": []
    },
    {
      "cell_type": "markdown",
      "metadata": {
        "id": "YCxQwjgN1EKE",
        "colab_type": "text"
      },
      "source": [
        "Loading the dataset and get a general impression about the data and how it looks"
      ]
    },
    {
      "cell_type": "code",
      "metadata": {
        "id": "zYgDBbW7YapE",
        "colab_type": "code",
        "colab": {}
      },
      "source": [
        "df_credits = pd.read_csv(\"/content/tmdb_5000_credits.csv\")\n",
        "df_movies = pd.read_csv(\"/content/tmdb_5000_movies.csv\")\n"
      ],
      "execution_count": null,
      "outputs": []
    },
    {
      "cell_type": "markdown",
      "metadata": {
        "id": "oa7I8Ncc2Hf0",
        "colab_type": "text"
      },
      "source": [
        "**The Movies DataSet**"
      ]
    },
    {
      "cell_type": "code",
      "metadata": {
        "id": "WCc7vF9_YhvH",
        "colab_type": "code",
        "colab": {}
      },
      "source": [
        "df_movies.head()"
      ],
      "execution_count": null,
      "outputs": []
    },
    {
      "cell_type": "code",
      "metadata": {
        "id": "Lv_0nTKB2oOi",
        "colab_type": "code",
        "colab": {}
      },
      "source": [
        "df_movies.shape"
      ],
      "execution_count": null,
      "outputs": []
    },
    {
      "cell_type": "markdown",
      "metadata": {
        "id": "JsJ39Lzm2u2i",
        "colab_type": "text"
      },
      "source": [
        "The Movies dataset is consistes of  \n",
        "\n",
        "4803 row \n",
        "\n",
        "20 column "
      ]
    },
    {
      "cell_type": "code",
      "metadata": {
        "id": "k1V2w6-Q2tYA",
        "colab_type": "code",
        "colab": {}
      },
      "source": [
        "df_movies.columns"
      ],
      "execution_count": null,
      "outputs": []
    },
    {
      "cell_type": "code",
      "metadata": {
        "id": "0ejcb_-Y2YUi",
        "colab_type": "code",
        "colab": {}
      },
      "source": [
        "df_movies.info()"
      ],
      "execution_count": null,
      "outputs": []
    },
    {
      "cell_type": "code",
      "metadata": {
        "id": "lCgdqRn06W_X",
        "colab_type": "code",
        "colab": {}
      },
      "source": [
        "df_movies.isnull().sum()"
      ],
      "execution_count": null,
      "outputs": []
    },
    {
      "cell_type": "markdown",
      "metadata": {
        "id": "fSdq00UO6ppH",
        "colab_type": "text"
      },
      "source": [
        "By checking the missing values within the data set we could observe that only five columns have missing values \n",
        "\n",
        "could found them within:\n",
        "\n",
        "homepage, overview, release_date, runtime and tagline attributes \n",
        "\n",
        "Only two columns (homepage & tagline) have a lot of null values and by looking at them carefully, I find them are not important to my analysis so I will drop them during the cleaning process "
      ]
    },
    {
      "cell_type": "code",
      "metadata": {
        "id": "9GISMGjO9sRx",
        "colab_type": "code",
        "colab": {}
      },
      "source": [
        "df_movies.describe()"
      ],
      "execution_count": null,
      "outputs": []
    },
    {
      "cell_type": "markdown",
      "metadata": {
        "id": "ZP-oR34AC3Eu",
        "colab_type": "text"
      },
      "source": [
        "\n",
        "the most important observation by exploring the above table that the minimum values for some row within the  budget, revenue, runtime and vote count\n",
        "\n",
        " "
      ]
    },
    {
      "cell_type": "code",
      "metadata": {
        "id": "LYVI6_iCCkja",
        "colab_type": "code",
        "colab": {}
      },
      "source": [
        "zero_budget = df_movies.query('budget== 0')\n",
        "(df_movies.budget == 0 ).sum()\n"
      ],
      "execution_count": null,
      "outputs": []
    },
    {
      "cell_type": "code",
      "metadata": {
        "id": "UAS1EJR8IHvl",
        "colab_type": "code",
        "colab": {}
      },
      "source": [
        "zero_budget.head()"
      ],
      "execution_count": null,
      "outputs": []
    },
    {
      "cell_type": "code",
      "metadata": {
        "id": "ltdJ5EC3IN9y",
        "colab_type": "code",
        "colab": {}
      },
      "source": [
        "(df_movies.revenue == 0 ).sum()\n"
      ],
      "execution_count": null,
      "outputs": []
    },
    {
      "cell_type": "code",
      "metadata": {
        "id": "jvClUc6rI6Ho",
        "colab_type": "code",
        "colab": {}
      },
      "source": [
        "(df_movies.runtime == 0 ).sum()\n"
      ],
      "execution_count": null,
      "outputs": []
    },
    {
      "cell_type": "code",
      "metadata": {
        "id": "jJV-Mj1JJXyi",
        "colab_type": "code",
        "colab": {}
      },
      "source": [
        "df_zero = df_movies.query('budget== 0 and revenue==0')"
      ],
      "execution_count": null,
      "outputs": []
    },
    {
      "cell_type": "code",
      "metadata": {
        "id": "Nnccc3w3Jwep",
        "colab_type": "code",
        "colab": {}
      },
      "source": [
        "df_zero.head()"
      ],
      "execution_count": null,
      "outputs": []
    },
    {
      "cell_type": "code",
      "metadata": {
        "id": "oU3ucmHTJ1XT",
        "colab_type": "code",
        "colab": {}
      },
      "source": [
        "df_zero.shape"
      ],
      "execution_count": null,
      "outputs": []
    },
    {
      "cell_type": "markdown",
      "metadata": {
        "id": "UKySxs0gG2pi",
        "colab_type": "text"
      },
      "source": [
        "First: there is a 1037 row with zero value within the budget column\n",
        "1427 row with zero value within the revenue column\n",
        "and 35 row for runtime and since the two columns revenue and budget intersected in 890 \n",
        "\n",
        "So I supose that the budget and the revenue and also runtime columns that have zero values are a missing values and for my analysis these two feature is very important so I will drop these recored contains zeros within the revenue and budget columns to avoid the risk of imputing them"
      ]
    },
    {
      "cell_type": "code",
      "metadata": {
        "id": "Cd5-irZbUHN9",
        "colab_type": "code",
        "colab": {}
      },
      "source": [
        "df_movies.duplicated().sum()"
      ],
      "execution_count": null,
      "outputs": []
    },
    {
      "cell_type": "markdown",
      "metadata": {
        "id": "cSzjayScUOf5",
        "colab_type": "text"
      },
      "source": [
        "the movies dataset has no duplicates row "
      ]
    },
    {
      "cell_type": "markdown",
      "metadata": {
        "id": "x66FIstQQ8Q9",
        "colab_type": "text"
      },
      "source": [
        "### **The Credit DataSet**"
      ]
    },
    {
      "cell_type": "code",
      "metadata": {
        "id": "AUpxfk0tYm5c",
        "colab_type": "code",
        "colab": {}
      },
      "source": [
        "df_credits.head()"
      ],
      "execution_count": null,
      "outputs": []
    },
    {
      "cell_type": "code",
      "metadata": {
        "id": "feyTpVy8z7oF",
        "colab_type": "code",
        "colab": {}
      },
      "source": [
        "df_credits.info()"
      ],
      "execution_count": null,
      "outputs": []
    },
    {
      "cell_type": "code",
      "metadata": {
        "id": "KhgWnIc_0MWx",
        "colab_type": "code",
        "colab": {}
      },
      "source": [
        "df_credits.isnull().sum()"
      ],
      "execution_count": null,
      "outputs": []
    },
    {
      "cell_type": "markdown",
      "metadata": {
        "id": "l5NhHtOgRN_8",
        "colab_type": "text"
      },
      "source": [
        "This data contains \n",
        "\n",
        "4803 rows \n",
        "\n",
        "4 columns\n",
        "\n",
        "and has no missing values"
      ]
    },
    {
      "cell_type": "code",
      "metadata": {
        "id": "G7UOgLevUX3z",
        "colab_type": "code",
        "colab": {}
      },
      "source": [
        "df_credits.duplicated().sum()"
      ],
      "execution_count": null,
      "outputs": []
    },
    {
      "cell_type": "markdown",
      "metadata": {
        "id": "EaFdp07RUnjY",
        "colab_type": "text"
      },
      "source": [
        "Also the credits dataset has no duplicates"
      ]
    },
    {
      "cell_type": "markdown",
      "metadata": {
        "id": "W874izKMR9NC",
        "colab_type": "text"
      },
      "source": [
        "###**Data Cleaning**"
      ]
    },
    {
      "cell_type": "markdown",
      "metadata": {
        "id": "DCvF-Lx7TCki",
        "colab_type": "text"
      },
      "source": [
        "get ready of the less important columns tha want effect our analysis such homepage & tagline"
      ]
    },
    {
      "cell_type": "code",
      "metadata": {
        "id": "NVdq9c6NT3zd",
        "colab_type": "code",
        "colab": {}
      },
      "source": [
        "cols = ['homepage', 'tagline', 'overview']\n",
        "df_movies.drop(cols, axis=1, inplace=True)"
      ],
      "execution_count": null,
      "outputs": []
    },
    {
      "cell_type": "code",
      "metadata": {
        "id": "vZBANrycUzz4",
        "colab_type": "code",
        "colab": {}
      },
      "source": [
        "df_movies.head()"
      ],
      "execution_count": null,
      "outputs": []
    },
    {
      "cell_type": "code",
      "metadata": {
        "id": "nT1OqGoAU4zu",
        "colab_type": "code",
        "colab": {}
      },
      "source": [
        "df_movies.shape"
      ],
      "execution_count": null,
      "outputs": []
    },
    {
      "cell_type": "markdown",
      "metadata": {
        "id": "zz4pAPEEVAB_",
        "colab_type": "text"
      },
      "source": [
        "**After** removing the unnessary columns the movies dataset columns become 17 "
      ]
    },
    {
      "cell_type": "markdown",
      "metadata": {
        "id": "HqseTTdHV1bC",
        "colab_type": "text"
      },
      "source": [
        "**Then** drop the zero values for the revenue, budget and runtime for the movies dataset "
      ]
    },
    {
      "cell_type": "code",
      "metadata": {
        "id": "SQvcKKeDU_kA",
        "colab_type": "code",
        "colab": {}
      },
      "source": [
        "df_movies.query('revenue != 0', inplace=True)"
      ],
      "execution_count": null,
      "outputs": []
    },
    {
      "cell_type": "code",
      "metadata": {
        "id": "0ey5YdxKbOId",
        "colab_type": "code",
        "colab": {}
      },
      "source": [
        "df_movies.query('budget != 0', inplace=True)"
      ],
      "execution_count": null,
      "outputs": []
    },
    {
      "cell_type": "code",
      "metadata": {
        "id": "BbF_ZVMhbT3c",
        "colab_type": "code",
        "colab": {}
      },
      "source": [
        "df_movies.query('runtime != 0', inplace=True)"
      ],
      "execution_count": null,
      "outputs": []
    },
    {
      "cell_type": "code",
      "metadata": {
        "id": "9u5l2pKjYtLp",
        "colab_type": "code",
        "colab": {}
      },
      "source": [
        "(df_movies.revenue == 0).sum()"
      ],
      "execution_count": null,
      "outputs": []
    },
    {
      "cell_type": "code",
      "metadata": {
        "id": "T6bG8iQdbe2b",
        "colab_type": "code",
        "colab": {}
      },
      "source": [
        "(df_movies.budget == 0).sum()"
      ],
      "execution_count": null,
      "outputs": []
    },
    {
      "cell_type": "code",
      "metadata": {
        "id": "WjS7PJX1biRv",
        "colab_type": "code",
        "colab": {}
      },
      "source": [
        "(df_movies.runtime == 0).sum()"
      ],
      "execution_count": null,
      "outputs": []
    },
    {
      "cell_type": "code",
      "metadata": {
        "id": "THTE8cIagRCP",
        "colab_type": "code",
        "colab": {}
      },
      "source": [
        "df_movies.info()"
      ],
      "execution_count": null,
      "outputs": []
    },
    {
      "cell_type": "markdown",
      "metadata": {
        "id": "cRS5qGc8gX_W",
        "colab_type": "text"
      },
      "source": [
        "**After Cleaning** and handling the missing values now the data is consist of \n",
        "\n",
        "3229 row \n",
        "\n",
        "17 column \n",
        "\n",
        "and have no missing or inconsistant values or zero values "
      ]
    },
    {
      "cell_type": "markdown",
      "metadata": {
        "id": "ibf0YkybjpaY",
        "colab_type": "text"
      },
      "source": [
        "#**Exploratory Data Analysis**"
      ]
    },
    {
      "cell_type": "markdown",
      "metadata": {
        "id": "XmR3M1Wfj2up",
        "colab_type": "text"
      },
      "source": [
        "The success of any movie is measure by how much he gain from the box office or the votes and rates the movie get so the most important feature to start with is check how and which feature have the great effect on the revenue and rates "
      ]
    },
    {
      "cell_type": "markdown",
      "metadata": {
        "id": "rkbxqoqNRNkL",
        "colab_type": "text"
      },
      "source": [
        "**Checking** relation between **budget** & **population** \n",
        "\n",
        "between **budget** & **revenue**\n",
        "\n",
        "between **budget** & **vote_average** \n",
        "\n",
        "**popularity** & **vote_average**"
      ]
    },
    {
      "cell_type": "code",
      "metadata": {
        "id": "UTAWQxX3rKDh",
        "colab_type": "code",
        "colab": {}
      },
      "source": [
        "df_movies.budget.hist()\n",
        "plt.ylabel('budget')\n",
        "plt.title('Budget Histogram')\n",
        "plt.show()"
      ],
      "execution_count": null,
      "outputs": []
    },
    {
      "cell_type": "code",
      "metadata": {
        "id": "oWQT1R9s0cAF",
        "colab_type": "code",
        "colab": {}
      },
      "source": [
        "plt.title('Budget Distributian')\n",
        "sns.distplot(df_movies.budget)"
      ],
      "execution_count": null,
      "outputs": []
    },
    {
      "cell_type": "markdown",
      "metadata": {
        "id": "ELLBY8wMxmJC",
        "colab_type": "text"
      },
      "source": [
        "by looking at the budget histogram we found the the histogram is left skewed and avery few movies budget more 200,000,000 "
      ]
    },
    {
      "cell_type": "code",
      "metadata": {
        "id": "UoMvHTFaSLQE",
        "colab_type": "code",
        "colab": {}
      },
      "source": [
        "df_movies.revenue.hist()\n",
        "plt.ylabel('Revenue')\n",
        "plt.title('Revenue Histogram')\n",
        "plt.show()"
      ],
      "execution_count": null,
      "outputs": []
    },
    {
      "cell_type": "code",
      "metadata": {
        "id": "3ZAUMXFA0088",
        "colab_type": "code",
        "colab": {}
      },
      "source": [
        "plt.title('Movies Budget')\n",
        "sns.boxplot(df_movies.budget)"
      ],
      "execution_count": null,
      "outputs": []
    },
    {
      "cell_type": "code",
      "metadata": {
        "id": "ry-YDCziSdFZ",
        "colab_type": "code",
        "colab": {}
      },
      "source": [
        "plt.figure(figsize =(8,8))\n",
        "plt.title('Movies Revenue')\n",
        "sns.boxplot(df_movies.revenue)"
      ],
      "execution_count": null,
      "outputs": []
    },
    {
      "cell_type": "markdown",
      "metadata": {
        "id": "ETgEymsATHaE",
        "colab_type": "text"
      },
      "source": [
        "by looking to the  quartiles represented by the boxplotof the revenue and budget we found out the is  many  outliers"
      ]
    },
    {
      "cell_type": "code",
      "metadata": {
        "id": "O_aDtVAIZj1h",
        "colab_type": "code",
        "colab": {}
      },
      "source": [
        "df_movies.plot(kind = 'hist', y = 'popularity', bins = 25, range = (0,250))\n",
        "plt.show()"
      ],
      "execution_count": null,
      "outputs": []
    },
    {
      "cell_type": "code",
      "metadata": {
        "id": "KapSr9TKnixL",
        "colab_type": "code",
        "colab": {}
      },
      "source": [
        "df_movies.plot(kind='scatter', x='revenue', y='budget', alpha=.5, color='r')\n",
        "plt.xlabel('revenue')\n",
        "plt.ylabel('budget')\n",
        "plt.title('Revenue VS Budget')\n",
        "plt.show()"
      ],
      "execution_count": null,
      "outputs": []
    },
    {
      "cell_type": "code",
      "metadata": {
        "id": "EMMEoCyhokFl",
        "colab_type": "code",
        "colab": {}
      },
      "source": [
        "df_movies['revenue'].corr(df_movies['budget'])"
      ],
      "execution_count": null,
      "outputs": []
    },
    {
      "cell_type": "markdown",
      "metadata": {
        "id": "ci0CBxGspIOn",
        "colab_type": "text"
      },
      "source": [
        "**Revenue Vs Budget**\n",
        "\n",
        "by ploting the relation between the budget and the revenue and  explore the **correlation coefficient** for the two attribute which is 0.7 it is a positive stronge correlation \n",
        "\n",
        "that means by increasing the budget of the movie it mostly possible to get a high revenue which i consider a type of success"
      ]
    },
    {
      "cell_type": "code",
      "metadata": {
        "id": "jSe01nYAzOw8",
        "colab_type": "code",
        "colab": {}
      },
      "source": [
        "\n",
        "df_movies[np.logical_and(df_movies['budget']>250000000, df_movies['vote_average']>7)]\n"
      ],
      "execution_count": null,
      "outputs": []
    },
    {
      "cell_type": "markdown",
      "metadata": {
        "id": "vonKuWQnzj6D",
        "colab_type": "text"
      },
      "source": [
        "restricting the result of the dataframe we found that only two movies the budget exceed 250,000,000 and get rate 7 or more"
      ]
    },
    {
      "cell_type": "markdown",
      "metadata": {
        "id": "FB2zfML05PDi",
        "colab_type": "text"
      },
      "source": [
        "convert movies rate into levels"
      ]
    },
    {
      "cell_type": "code",
      "metadata": {
        "id": "RdAOu8_aJz_o",
        "colab_type": "code",
        "colab": {}
      },
      "source": [
        "df_movies['vote_average'].hist()"
      ],
      "execution_count": null,
      "outputs": []
    },
    {
      "cell_type": "code",
      "metadata": {
        "id": "Itp-F4yyKhUH",
        "colab_type": "code",
        "colab": {}
      },
      "source": [
        "plt.figure(figsize=(8,8))\n",
        "plt.title('Rates Distributian')\n",
        "sns.distplot(df_movies.vote_average)"
      ],
      "execution_count": null,
      "outputs": []
    },
    {
      "cell_type": "markdown",
      "metadata": {
        "id": "uHmoCd5VKs2a",
        "colab_type": "text"
      },
      "source": [
        "by chechking looking at the voting average distribution we could see that the data is distributed normaly "
      ]
    },
    {
      "cell_type": "code",
      "metadata": {
        "id": "fjdG72jJI5p9",
        "colab_type": "code",
        "colab": {}
      },
      "source": [
        "print(df_movies['status'].value_counts(dropna = False))"
      ],
      "execution_count": null,
      "outputs": []
    },
    {
      "cell_type": "code",
      "metadata": {
        "id": "lEMK6R0Earzl",
        "colab_type": "code",
        "colab": {}
      },
      "source": [
        "plt.figure(figsize=(6,6))\n",
        "pl = sns.countplot(x = 'status', data =df_movies,)\n",
        "plt.title('status bar chart')\n",
        "for p in pl.patches:\n",
        "        pl.annotate('{:.2f}%'.format(p.get_height()/len(df_movies)*100), (p.get_x()+0.1, p.get_height()+50))\n",
        "plt.show()"
      ],
      "execution_count": null,
      "outputs": []
    },
    {
      "cell_type": "markdown",
      "metadata": {
        "id": "1U39MEOBJEBR",
        "colab_type": "text"
      },
      "source": [
        "Sine all movies are release so the movies status will not be important for our analysis "
      ]
    },
    {
      "cell_type": "code",
      "metadata": {
        "id": "D4QJZDpuRKuB",
        "colab_type": "code",
        "colab": {}
      },
      "source": [
        "df_movies.plot(kind='scatter', x='popularity', y='budget', alpha=.5, color='r')\n",
        "plt.xlabel('popularity')\n",
        "plt.ylabel('budget')\n",
        "plt.title('popularity VS Budget')\n",
        "plt.show()"
      ],
      "execution_count": null,
      "outputs": []
    },
    {
      "cell_type": "code",
      "metadata": {
        "id": "grjT5N2tPd1P",
        "colab_type": "code",
        "colab": {}
      },
      "source": [
        "df_movies.plot(kind='scatter', x='popularity', y='vote_average', alpha=.7, color='r')\n",
        "plt.xlabel('popularity')\n",
        "plt.ylabel('vote_average')\n",
        "plt.title('popularity VS vote_average')\n",
        "plt.show()"
      ],
      "execution_count": null,
      "outputs": []
    },
    {
      "cell_type": "markdown",
      "metadata": {
        "id": "MTyFVF4jgoXz",
        "colab_type": "text"
      },
      "source": [
        "the previous figure of popularity VS vote_average are related since the high average vote the movie has the more population the movie get"
      ]
    },
    {
      "cell_type": "code",
      "metadata": {
        "id": "-Vn4QdUghJEx",
        "colab_type": "code",
        "colab": {}
      },
      "source": [
        "plt.figure(figsize=(15,15))\n",
        "pl = sns.countplot(x = 'original_language', data =df_movies,)\n",
        "plt.title('original_language bar chart')\n",
        "for p in pl.patches:\n",
        "        pl.annotate('{:.2f}%'.format(p.get_height()/len(df_movies)*100), (p.get_x()+0.1, p.get_height()+50))\n",
        "plt.show()"
      ],
      "execution_count": null,
      "outputs": []
    },
    {
      "cell_type": "markdown",
      "metadata": {
        "id": "98if6MBzhs3u",
        "colab_type": "text"
      },
      "source": [
        "by discovering the movies language there is more than 96% of movies ar in english "
      ]
    },
    {
      "cell_type": "code",
      "metadata": {
        "id": "YzfR9o9nhsGA",
        "colab_type": "code",
        "colab": {}
      },
      "source": [
        "plt.figure(figsize=(8,8))\n",
        "plt.title('RunTime Distributian')\n",
        "sns.distplot(df_movies.runtime)"
      ],
      "execution_count": null,
      "outputs": []
    },
    {
      "cell_type": "code",
      "metadata": {
        "id": "4HYwSGYCi-Eq",
        "colab_type": "code",
        "colab": {}
      },
      "source": [
        "plt.figure(figsize =(8,8))\n",
        "plt.title('Movies runtime')\n",
        "sns.boxplot(df_movies.runtime)"
      ],
      "execution_count": null,
      "outputs": []
    },
    {
      "cell_type": "markdown",
      "metadata": {
        "id": "Ab8Tlyqx7kJw",
        "colab_type": "text"
      },
      "source": [
        "here are the quartiles and boxplot of the runtime  \n",
        "50 %  of the movies is less than 110 minutes   "
      ]
    },
    {
      "cell_type": "code",
      "metadata": {
        "id": "AMvKkOST-wsU",
        "colab_type": "code",
        "colab": {}
      },
      "source": [
        "df_movies.plot(kind='scatter', x='runtime', y='vote_average', alpha=.7, color='r')\n",
        "plt.ylabel('runtime')\n",
        "plt.xlabel('vote_average')\n",
        "plt.title('runtime VS vote_average')\n",
        "plt.show()"
      ],
      "execution_count": null,
      "outputs": []
    },
    {
      "cell_type": "code",
      "metadata": {
        "id": "gieVVlK9_ImI",
        "colab_type": "code",
        "colab": {}
      },
      "source": [
        "df_movies.plot(kind='scatter', x='runtime', y='revenue', alpha=.7, color='r')\n",
        "plt.ylabel('runtime')\n",
        "plt.xlabel('revenue')\n",
        "plt.title('runtime VS revenue')\n",
        "plt.show()"
      ],
      "execution_count": null,
      "outputs": []
    },
    {
      "cell_type": "markdown",
      "metadata": {
        "id": "Ys2-QQLGAnw4",
        "colab_type": "text"
      },
      "source": [
        "chech the movies with most average votes"
      ]
    },
    {
      "cell_type": "code",
      "metadata": {
        "id": "E87YAiZ8BKwk",
        "colab_type": "code",
        "colab": {}
      },
      "source": [
        "df_movies.info()\n"
      ],
      "execution_count": null,
      "outputs": []
    },
    {
      "cell_type": "code",
      "metadata": {
        "id": "jsqEn3c7C-_J",
        "colab_type": "code",
        "colab": {}
      },
      "source": [
        "df_revenue = df_movies.sort_values(['revenue'], ascending=[False])"
      ],
      "execution_count": null,
      "outputs": []
    },
    {
      "cell_type": "code",
      "metadata": {
        "id": "gslEYnL_DGly",
        "colab_type": "code",
        "colab": {}
      },
      "source": [
        "df_revenue.head()"
      ],
      "execution_count": null,
      "outputs": []
    },
    {
      "cell_type": "markdown",
      "metadata": {
        "id": "5KES25qSEDsV",
        "colab_type": "text"
      },
      "source": [
        "Avatar & Titanic are the most two movis get a revenew"
      ]
    },
    {
      "cell_type": "code",
      "metadata": {
        "id": "CQuPSKa9DhaH",
        "colab_type": "code",
        "colab": {}
      },
      "source": [
        ""
      ],
      "execution_count": null,
      "outputs": []
    },
    {
      "cell_type": "code",
      "metadata": {
        "id": "iUyUzuAlYsYh",
        "colab_type": "code",
        "colab": {}
      },
      "source": [
        "df_vote = df_movies.sort_values(['vote_average'], ascending=[False])"
      ],
      "execution_count": null,
      "outputs": []
    },
    {
      "cell_type": "code",
      "metadata": {
        "id": "De5Kc5xnY6QU",
        "colab_type": "code",
        "colab": {}
      },
      "source": [
        "df_vote.head()"
      ],
      "execution_count": null,
      "outputs": []
    },
    {
      "cell_type": "markdown",
      "metadata": {
        "id": "-Jl8OtA9Cfwe",
        "colab_type": "text"
      },
      "source": [
        "here we are with the most rated movie is **The Shawshank Redemption** it get  average votes around 8.5"
      ]
    },
    {
      "cell_type": "code",
      "metadata": {
        "id": "jgzDHQqTbbCN",
        "colab_type": "code",
        "colab": {}
      },
      "source": [
        "df_budget = df_movies.sort_values(['budget'], ascending=[False])"
      ],
      "execution_count": null,
      "outputs": []
    },
    {
      "cell_type": "code",
      "metadata": {
        "id": "a7ey0nAaEV-N",
        "colab_type": "code",
        "colab": {}
      },
      "source": [
        "df_budget.head()"
      ],
      "execution_count": null,
      "outputs": []
    },
    {
      "cell_type": "markdown",
      "metadata": {
        "id": "3YQPzeR3Es8Z",
        "colab_type": "text"
      },
      "source": [
        "Pirates of the Caribbean: and its athor part are hves a great budget"
      ]
    },
    {
      "cell_type": "markdown",
      "metadata": {
        "id": "NuxO4d3sFuTK",
        "colab_type": "text"
      },
      "source": [
        "check the feature effects and relation between them "
      ]
    },
    {
      "cell_type": "code",
      "metadata": {
        "id": "-IEWl7jvFnwS",
        "colab_type": "code",
        "colab": {}
      },
      "source": [
        "df_movies.corr()"
      ],
      "execution_count": null,
      "outputs": []
    },
    {
      "cell_type": "code",
      "metadata": {
        "id": "O6JRCGPYFrCS",
        "colab_type": "code",
        "colab": {}
      },
      "source": [
        "plt.figure(figsize=(30, 20))\n",
        "sns.heatmap(df_movies.corr(), annot=True)"
      ],
      "execution_count": null,
      "outputs": []
    },
    {
      "cell_type": "markdown",
      "metadata": {
        "id": "7lglJnQzGH2l",
        "colab_type": "text"
      },
      "source": [
        "#**Conclsion**"
      ]
    },
    {
      "cell_type": "markdown",
      "metadata": {
        "id": "DapCnKJxGr58",
        "colab_type": "text"
      },
      "source": [
        "First we suppose and ask some general question  and The result turned out that the movie wit the most revenue and the highest average_votes so, I focused on the movies which are with high revenue. I found movies with higher revenue are with higher popularity.\n",
        "\n",
        "second the movie budegt have a great effect in both revenue and  average votes\n",
        "\n",
        " I assume the zero values in revenue and budget column are missing and  also in runtime  and i handel this by drop this column and  also drop the  less important  coulmns \n",
        "\n",
        " "
      ]
    },
    {
      "cell_type": "markdown",
      "metadata": {
        "id": "Wm_4Q2VvJan1",
        "colab_type": "text"
      },
      "source": [
        "a  exploration are within the notebook "
      ]
    },
    {
      "cell_type": "code",
      "metadata": {
        "id": "uLVFdFqhGrAz",
        "colab_type": "code",
        "colab": {}
      },
      "source": [
        ""
      ],
      "execution_count": null,
      "outputs": []
    }
  ]
}